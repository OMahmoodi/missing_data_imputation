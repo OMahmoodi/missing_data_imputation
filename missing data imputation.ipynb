{
 "cells": [
  {
   "cell_type": "markdown",
   "id": "218793d5",
   "metadata": {},
   "source": [
    "# Missing data\n",
    "**Missing data** occur when no data value is stored for the variable. Missing values can be caused because the information is not reported, or the data is not recorded properly, or the information is not available. \n",
    "\n",
    "Taking following steps help to ensure missing data are correctly identified and properly dealt with:"
   ]
  },
  {
   "cell_type": "markdown",
   "id": "8b79a216",
   "metadata": {},
   "source": [
    "### Step 1: Ensure your data are coded correctly\n",
    "It is necessary to check if data are stored with proper data types (e.g., string, integer, datetime, etc.). "
   ]
  },
  {
   "cell_type": "markdown",
   "id": "135a7588",
   "metadata": {},
   "source": [
    "### Step 2: Identify missing values within each variable\n",
    "Missing values can be seen as Null, blank cells, special characters, or very large or low values (e.g., -999999). It is more convenient if all missing values are replaced and represented by one value (e.g., Null)."
   ]
  },
  {
   "cell_type": "markdown",
   "id": "9dc344db",
   "metadata": {},
   "source": [
    "### Step 3: Patterns of missing values\n",
    "- Observing any patterns in the missing data help to understand the cause of missing data occurrence and find a proper method to deal with them. \n",
    "- Missing data can be univariate or multivariate. A missing data pattern is said to be univariate if there is only one variable with missing data. \n",
    "- We also need to look at the randomness of missing data occurrences. Values are randomly missing, and they do not relate to any other variable in the dataset. Whereas, for not-random missing data, the pattern of missingness is related to other variables in the dataset (i.e., all data for variable A is missing where variable B is 'bb'). \n",
    "- Understanding the link between missing and observed data is important to find a proper method to deal with missing data. "
   ]
  },
  {
   "cell_type": "markdown",
   "id": "cb881811",
   "metadata": {},
   "source": [
    "### Step 4: How to handle missing data\n",
    "There are several factors that should be considered while choosing what to do with the missing data. Based on the information obtained through steps 1 & 2, one of the following approches can be considered:\n",
    "\n",
    "- Delete the variable\n",
    "- Delete the cases with missing data\n",
    "- Replace the missing values"
   ]
  },
  {
   "cell_type": "markdown",
   "id": "267b564f",
   "metadata": {},
   "source": [
    "#### 4.1: Delete the variable\n",
    "If a variable has >50 % missing data, it might be reasonable to remove the variable from the dataset, unless the variable is essential to the analysis and must remain in the dataset. "
   ]
  },
  {
   "cell_type": "markdown",
   "id": "0ef3ffdd",
   "metadata": {},
   "source": [
    "#### 4.2: Delete the cases with missing data\n",
    "It is the case for multivariate missing data where most of variable have missing values."
   ]
  },
  {
   "cell_type": "markdown",
   "id": "b71687a0",
   "metadata": {},
   "source": [
    "#### 4.3: Replace (impute) missing values\n",
    "If it is decided to keep the variables and cases with missing values, they should be imputed (replaced by a value). \n",
    "- Missing values can be replaced by a constant number (usually central tendency parameters). \n",
    "    - Other variables can be used to achieve a more accurate estimation for missing values rather than using the mean/median value calculated for all data. For example, variable A can be grouped based on the variable B (a categorical feature), then missing data of variable A can be replaced by the average of variable A for each group.\n",
    "- For univariate missing patterns, the relationship between the variables can also be used in a form of a modeling process to predict the missing values such as using a regression model to predict the missing value based on other variables."
   ]
  },
  {
   "cell_type": "code",
   "execution_count": 1,
   "id": "04cd889d",
   "metadata": {},
   "outputs": [],
   "source": [
    "import os\n",
    "os.chdir('...\\\\missing_data')\n",
    "%config Completer.use_jedi = False"
   ]
  },
  {
   "cell_type": "code",
   "execution_count": 2,
   "id": "fc966848",
   "metadata": {},
   "outputs": [],
   "source": [
    "import geopandas as gpd\n",
    "import pandas as pd\n",
    "import numpy as np\n",
    "import matplotlib.pyplot as plt\n",
    "import seaborn as sns\n",
    "import matplotlib.colors\n",
    "from matplotlib.patches import Patch\n",
    "from sklearn.preprocessing import StandardScaler"
   ]
  },
  {
   "cell_type": "code",
   "execution_count": 3,
   "id": "febceefe",
   "metadata": {},
   "outputs": [],
   "source": [
    "pd.options.display.float_format = \"{:,.2f}\".format"
   ]
  },
  {
   "cell_type": "code",
   "execution_count": 4,
   "id": "570ddbc7",
   "metadata": {},
   "outputs": [],
   "source": [
    "df=pd.read_csv('data_miss_imputation.csv')"
   ]
  },
  {
   "cell_type": "markdown",
   "id": "89c0bf64",
   "metadata": {},
   "source": [
    "Step 1: make sure data types are correctly assigned to the features"
   ]
  },
  {
   "cell_type": "code",
   "execution_count": 5,
   "id": "9089c9f6",
   "metadata": {},
   "outputs": [
    {
     "name": "stdout",
     "output_type": "stream",
     "text": [
      "<class 'pandas.core.frame.DataFrame'>\n",
      "RangeIndex: 4608 entries, 0 to 4607\n",
      "Data columns (total 13 columns):\n",
      " #   Column  Non-Null Count  Dtype  \n",
      "---  ------  --------------  -----  \n",
      " 0   As      4608 non-null   int64  \n",
      " 1   Au      4608 non-null   int64  \n",
      " 2   Co      4608 non-null   int64  \n",
      " 3   Cu      4608 non-null   int64  \n",
      " 4   Fe      4608 non-null   float64\n",
      " 5   Hg      4608 non-null   int64  \n",
      " 6   Mn      4608 non-null   int64  \n",
      " 7   Mo      4608 non-null   int64  \n",
      " 8   Ni      4608 non-null   int64  \n",
      " 9   U       4608 non-null   float64\n",
      " 10  Zn      4608 non-null   int64  \n",
      " 11  x       4608 non-null   float64\n",
      " 12  y       4608 non-null   float64\n",
      "dtypes: float64(4), int64(9)\n",
      "memory usage: 468.1 KB\n"
     ]
    }
   ],
   "source": [
    "df.info()"
   ]
  },
  {
   "cell_type": "markdown",
   "id": "8928cdc1",
   "metadata": {},
   "source": [
    "Step 2: Note that all data are reported as non-null; however, further investigation shows that most of the features contain negative values should be considered as null (missing) values. (Because each feature represents concentration of an element, and the element concentration must be positive value.)\n"
   ]
  },
  {
   "cell_type": "code",
   "execution_count": 6,
   "id": "9eb48329",
   "metadata": {},
   "outputs": [
    {
     "data": {
      "text/html": [
       "<div>\n",
       "<style scoped>\n",
       "    .dataframe tbody tr th:only-of-type {\n",
       "        vertical-align: middle;\n",
       "    }\n",
       "\n",
       "    .dataframe tbody tr th {\n",
       "        vertical-align: top;\n",
       "    }\n",
       "\n",
       "    .dataframe thead th {\n",
       "        text-align: right;\n",
       "    }\n",
       "</style>\n",
       "<table border=\"1\" class=\"dataframe\">\n",
       "  <thead>\n",
       "    <tr style=\"text-align: right;\">\n",
       "      <th></th>\n",
       "      <th>As</th>\n",
       "      <th>Au</th>\n",
       "      <th>Co</th>\n",
       "      <th>Cu</th>\n",
       "      <th>Fe</th>\n",
       "      <th>Hg</th>\n",
       "      <th>Mn</th>\n",
       "      <th>Mo</th>\n",
       "      <th>Ni</th>\n",
       "      <th>U</th>\n",
       "      <th>Zn</th>\n",
       "      <th>x</th>\n",
       "      <th>y</th>\n",
       "    </tr>\n",
       "  </thead>\n",
       "  <tbody>\n",
       "    <tr>\n",
       "      <th>min</th>\n",
       "      <td>-1.00</td>\n",
       "      <td>-5.00</td>\n",
       "      <td>-2.00</td>\n",
       "      <td>-2.00</td>\n",
       "      <td>0.12</td>\n",
       "      <td>-10.00</td>\n",
       "      <td>25.00</td>\n",
       "      <td>-2.00</td>\n",
       "      <td>-2.00</td>\n",
       "      <td>-0.50</td>\n",
       "      <td>4.00</td>\n",
       "      <td>424,337.83</td>\n",
       "      <td>6,046,218.87</td>\n",
       "    </tr>\n",
       "    <tr>\n",
       "      <th>mean</th>\n",
       "      <td>2.45</td>\n",
       "      <td>3.31</td>\n",
       "      <td>11.36</td>\n",
       "      <td>32.24</td>\n",
       "      <td>3.13</td>\n",
       "      <td>62.34</td>\n",
       "      <td>790.15</td>\n",
       "      <td>2.18</td>\n",
       "      <td>26.49</td>\n",
       "      <td>4.13</td>\n",
       "      <td>98.76</td>\n",
       "      <td>586,176.30</td>\n",
       "      <td>6,213,760.72</td>\n",
       "    </tr>\n",
       "    <tr>\n",
       "      <th>max</th>\n",
       "      <td>76.00</td>\n",
       "      <td>112.00</td>\n",
       "      <td>190.00</td>\n",
       "      <td>1,600.00</td>\n",
       "      <td>33.00</td>\n",
       "      <td>1,560.00</td>\n",
       "      <td>89,000.00</td>\n",
       "      <td>69.00</td>\n",
       "      <td>280.00</td>\n",
       "      <td>130.00</td>\n",
       "      <td>7,100.00</td>\n",
       "      <td>701,712.54</td>\n",
       "      <td>6,471,893.74</td>\n",
       "    </tr>\n",
       "  </tbody>\n",
       "</table>\n",
       "</div>"
      ],
      "text/plain": [
       "        As     Au     Co       Cu    Fe       Hg        Mn    Mo     Ni  \\\n",
       "min  -1.00  -5.00  -2.00    -2.00  0.12   -10.00     25.00 -2.00  -2.00   \n",
       "mean  2.45   3.31  11.36    32.24  3.13    62.34    790.15  2.18  26.49   \n",
       "max  76.00 112.00 190.00 1,600.00 33.00 1,560.00 89,000.00 69.00 280.00   \n",
       "\n",
       "          U       Zn          x            y  \n",
       "min   -0.50     4.00 424,337.83 6,046,218.87  \n",
       "mean   4.13    98.76 586,176.30 6,213,760.72  \n",
       "max  130.00 7,100.00 701,712.54 6,471,893.74  "
      ]
     },
     "execution_count": 6,
     "metadata": {},
     "output_type": "execute_result"
    }
   ],
   "source": [
    "df.describe().loc[['min','mean','max']]"
   ]
  },
  {
   "cell_type": "code",
   "execution_count": 7,
   "id": "ac9e40db",
   "metadata": {},
   "outputs": [],
   "source": [
    "# replacing negative values by numpy.nan \n",
    "for col in df.drop(['x','y'], axis=1).columns:\n",
    "    df.loc[(df[col]<=0),[col]]=np.nan"
   ]
  },
  {
   "cell_type": "code",
   "execution_count": 8,
   "id": "c7c30bfa",
   "metadata": {},
   "outputs": [
    {
     "data": {
      "text/plain": [
       "Fe    0.00\n",
       "Mn    0.00\n",
       "Zn    0.00\n",
       "Cu    0.02\n",
       "U     0.11\n",
       "Ni    0.39\n",
       "Co    0.50\n",
       "Hg    1.54\n",
       "Mo   19.47\n",
       "As   26.41\n",
       "Au   48.24\n",
       "dtype: float64"
      ]
     },
     "execution_count": 8,
     "metadata": {},
     "output_type": "execute_result"
    }
   ],
   "source": [
    "# calculates the percentage of missing value for each feature (x and y represent the location of each entry)\n",
    "((df.drop(['x','y'], axis=1).isnull().sum()/len(df))*100).sort_values()"
   ]
  },
  {
   "cell_type": "markdown",
   "id": "16de2962",
   "metadata": {},
   "source": [
    "Au had the highest proportion of missing values (48%). Removing Au from the dataset is definitely justified given its high proportion of missing value; however, this feature is a critical variable for our research and must remain in the dataset. "
   ]
  },
  {
   "cell_type": "code",
   "execution_count": 9,
   "id": "e97c2142",
   "metadata": {},
   "outputs": [
    {
     "data": {
      "text/plain": [
       "([], [])"
      ]
     },
     "execution_count": 9,
     "metadata": {},
     "output_type": "execute_result"
    },
    {
     "data": {
      "image/png": "[encoded data removed]",
      "text/plain": [
       "<Figure size 720x432 with 1 Axes>"
      ]
     },
     "metadata": {
      "needs_background": "light"
     },
     "output_type": "display_data"
    }
   ],
   "source": [
    "plt.figure(figsize=(10,6))\n",
    "colors = [[False, \"whitesmoke\"],[True, \"darkblue\"]]\n",
    "cm = matplotlib.colors.LinearSegmentedColormap.from_list(\"\", colors)\n",
    "\n",
    "sns.heatmap(df.drop(['x','y'], axis=1).isnull(), cmap=cm, cbar=False)\n",
    "\n",
    "legend_handles = [Patch(color=\"darkblue\", label='Missing Value'),Patch(color=\"whitesmoke\", label='Non Missing Value')]\n",
    "plt.legend(handles=legend_handles, ncol=2, bbox_to_anchor=[0.5, 1.02], loc='lower center', fontsize=14, handlelength=4)\n",
    "\n",
    "plt.xticks(fontsize=12)\n",
    "plt.yticks([])"
   ]
  },
  {
   "cell_type": "markdown",
   "id": "afcbf4a8",
   "metadata": {},
   "source": [
    "This plot is very helpful to identify multivariate missing pattern in the data. Blue bars represent missing value for each variable at each row. For the multivariate missing pattern, blue bars exist for most of the features at a row. The current dataset doesn't show this pattern. "
   ]
  },
  {
   "cell_type": "code",
   "execution_count": 10,
   "id": "bbbaa35d",
   "metadata": {},
   "outputs": [],
   "source": [
    "df_copy=df.copy()\n",
    "gdf=gpd.GeoDataFrame(df_copy, geometry= gpd.points_from_xy(df['x'],df['y']))"
   ]
  },
  {
   "cell_type": "markdown",
   "id": "856cfe88",
   "metadata": {},
   "source": [
    "To further investigate the pattern of missingness, the dataframe was converted to a geodataframe which can store geolocation information (x and y as geometries). \n",
    "Plotting the location of missing and non-missing data for two variables (Au and Mo) revealed that most of the missing Au values follow a pattern and are located in the upper portion of the area; whereas, distribution of missing values for the other features are completely random."
   ]
  },
  {
   "cell_type": "code",
   "execution_count": 11,
   "id": "b84eb96d",
   "metadata": {},
   "outputs": [
    {
     "data": {
      "image/png": "[encoded data removed]",
      "text/plain": [
       "<Figure size 720x720 with 2 Axes>"
      ]
     },
     "metadata": {
      "needs_background": "light"
     },
     "output_type": "display_data"
    }
   ],
   "source": [
    "fig, axes=plt.subplots(1,2, figsize=(10,10))\n",
    "gdf[gdf['Au'].isnull()].plot(ax=axes[0], color='darkblue', markersize=0.5, label='Missing')\n",
    "gdf[gdf['Au'].notnull()].plot(ax=axes[0], color='silver', markersize=0.5, label='Not Missing')\n",
    "axes[0].legend(markerscale=10, fontsize=15)\n",
    "axes[0].set_axis_off()\n",
    "\n",
    "gdf[gdf['Mo'].isnull()].plot(ax=axes[1], color='darkblue', markersize=0.5,label='Missing')\n",
    "gdf[gdf['Mo'].notnull()].plot(ax=axes[1], color='silver', markersize=0.5, label='Not Missing')\n",
    "axes[1].legend(markerscale=10, fontsize=15)\n",
    "axes[1].set_axis_off()"
   ]
  },
  {
   "cell_type": "markdown",
   "id": "9535c2ca",
   "metadata": {},
   "source": [
    "For features with a random missingness pattern (all features except Au), the missing values were replaced by the average of 12 neighbouring values. \n"
   ]
  },
  {
   "cell_type": "code",
   "execution_count": 12,
   "id": "00643787",
   "metadata": {},
   "outputs": [],
   "source": [
    "# features with a random missingness pattern\n",
    "missing_random=['As', 'Co', 'Cu', 'Fe', 'Hg', 'Mn', 'Mo', 'Ni', 'U', 'Zn']"
   ]
  },
  {
   "cell_type": "code",
   "execution_count": 13,
   "id": "7681a409",
   "metadata": {},
   "outputs": [],
   "source": [
    "from pointpats import PointPattern"
   ]
  },
  {
   "cell_type": "code",
   "execution_count": 14,
   "id": "67751a4d",
   "metadata": {},
   "outputs": [],
   "source": [
    "# calculated the Euclidean distance between points and returns 12 closest points for each sample as its neighbours\n",
    "pp = PointPattern([(p.x, p.y) for p in gdf.geometry])\n",
    "\n",
    "# gets indices of 12 neighbours for each point. first array stores indices, second stores distance.\n",
    "nearest_points=pp.knn(12)[0]"
   ]
  },
  {
   "cell_type": "code",
   "execution_count": 15,
   "id": "a7a2c9f1",
   "metadata": {},
   "outputs": [],
   "source": [
    "# replaces missing data with the average of neibouring values\n",
    "for index, row in df.iterrows():\n",
    "    for col in missing_random:\n",
    "        if pd.isnull(row[col]):\n",
    "            df.loc[index, col]= df.loc[nearest_points[index], col].mean()"
   ]
  },
  {
   "cell_type": "code",
   "execution_count": 16,
   "id": "37d954bb",
   "metadata": {},
   "outputs": [
    {
     "data": {
      "text/plain": [
       "As    0.00\n",
       "Co    0.00\n",
       "Cu    0.00\n",
       "Fe    0.00\n",
       "Hg    0.00\n",
       "Mn    0.00\n",
       "Mo    0.00\n",
       "Ni    0.00\n",
       "U     0.00\n",
       "Zn    0.00\n",
       "Au   48.24\n",
       "dtype: float64"
      ]
     },
     "execution_count": 16,
     "metadata": {},
     "output_type": "execute_result"
    }
   ],
   "source": [
    "# Au is the only feature with missing values \n",
    "((df.drop(['x','y'], axis=1).isnull().sum()/len(df))*100).sort_values()"
   ]
  },
  {
   "cell_type": "markdown",
   "id": "9c0594a5",
   "metadata": {},
   "source": [
    "Given the observed pattern of missing Au values, they should be dealt with differently. \n",
    "\n",
    "1- The dataset was split into upper and lower portions. \n",
    "    - The lower portion contains non-missing values for all features. \n",
    "    - The upper portion contains non-missing values for all features except Au, and missing values for Au. \n",
    "\n",
    "2- A regressor was trained on the data from the lower portion to predict the missing Au values using other features. \n",
    "\n",
    "3- Then, the regressor was deployed to estimate missing Au values in the upper portion.  \n",
    "\n",
    "4- Once, the missing data in the upper portion were imputed, the missing data in the lower portion could be replaced by the average of neighbouring values (like the other features) where unlike the upper portion it is possible for a point to have some non-missing value neighbours. "
   ]
  },
  {
   "cell_type": "code",
   "execution_count": 17,
   "id": "2fe34356",
   "metadata": {},
   "outputs": [],
   "source": [
    "lower_X= df.loc[(df['y']<6316649)& (df['Au'].notnull())].drop(['Au','x','y'], axis=1)\n",
    "lower_y= df.loc[(df['y']<6316649)& (df['Au'].notnull()),'Au']\n",
    "\n",
    "upper_X= df[df['y']>=6316649].drop(['Au','x','y'], axis=1)\n",
    "# stores the indices of missing Au values to be replaced with the predicted values later\n",
    "upper_X_indices= upper_X.index"
   ]
  },
  {
   "cell_type": "code",
   "execution_count": 19,
   "id": "85c37627",
   "metadata": {},
   "outputs": [],
   "source": [
    "# scales the data \n",
    "scaler=StandardScaler()\n",
    "scaler.fit(lower_X)\n",
    "\n",
    "lower_X=scaler.transform(lower_X)\n",
    "upper_X=scaler.transform(upper_X)\n",
    "\n",
    "# log transform of the target (au)\n",
    "lower_y=np.log(lower_y.values)"
   ]
  },
  {
   "cell_type": "code",
   "execution_count": 20,
   "id": "6efb66a1",
   "metadata": {},
   "outputs": [],
   "source": [
    "from sklearn.svm import SVR\n",
    "from sklearn.model_selection import train_test_split\n",
    "from sklearn.metrics import r2_score"
   ]
  },
  {
   "cell_type": "code",
   "execution_count": 21,
   "id": "9311dbe5",
   "metadata": {},
   "outputs": [
    {
     "data": {
      "text/plain": [
       "SVR()"
      ]
     },
     "execution_count": 21,
     "metadata": {},
     "output_type": "execute_result"
    }
   ],
   "source": [
    "X_train, X_test, y_train, y_test=train_test_split(lower_X, lower_y, test_size=0.3)\n",
    "svr=SVR()\n",
    "svr.fit(X_train, y_train)"
   ]
  },
  {
   "cell_type": "code",
   "execution_count": 22,
   "id": "4a5bac21",
   "metadata": {},
   "outputs": [
    {
     "data": {
      "text/plain": [
       "Text(0, 0.5, 'Predicted Au values')"
      ]
     },
     "execution_count": 22,
     "metadata": {},
     "output_type": "execute_result"
    },
    {
     "data": {
      "image/png": "[encoded data removed]",
      "text/plain": [
       "<Figure size 432x288 with 1 Axes>"
      ]
     },
     "metadata": {
      "needs_background": "light"
     },
     "output_type": "display_data"
    }
   ],
   "source": [
    "plt.scatter(svr.predict(X_test),y_test)\n",
    "plt.xlabel(\"Actual Au values\")\n",
    "plt.ylabel(\"Predicted Au values\")"
   ]
  },
  {
   "cell_type": "code",
   "execution_count": 23,
   "id": "6d146611",
   "metadata": {},
   "outputs": [
    {
     "name": "stdout",
     "output_type": "stream",
     "text": [
      "R-squared score for training data: 0.74\n",
      "R-squared score for test data: 0.67\n"
     ]
    }
   ],
   "source": [
    "print(\"R-squared score for training data: {:.2f}\".format(r2_score(y_train, svr.predict(X_train))))\n",
    "print(\"R-squared score for test data: {:.2f}\".format(r2_score(y_test, svr.predict(X_test))))"
   ]
  },
  {
   "cell_type": "code",
   "execution_count": 24,
   "id": "294cd8f7",
   "metadata": {},
   "outputs": [],
   "source": [
    "# adds predicted values to geochem\n",
    "df.loc[upper_X_indices, 'Au']= np.exp(svr.predict(upper_X))"
   ]
  },
  {
   "cell_type": "code",
   "execution_count": 25,
   "id": "c9df2b23",
   "metadata": {},
   "outputs": [],
   "source": [
    "# imputes missing Au data in the lower portion using neighbouring values\n",
    "for index, row in df.iterrows():\n",
    "    for col in ['Au']:\n",
    "        if pd.isnull(row[col]):\n",
    "            df.loc[index, col]= df.loc[nearest_points[index], col].mean()"
   ]
  },
  {
   "cell_type": "code",
   "execution_count": 26,
   "id": "1ef3aec1",
   "metadata": {},
   "outputs": [
    {
     "data": {
      "text/plain": [
       "As   0.00\n",
       "Au   0.00\n",
       "Co   0.00\n",
       "Cu   0.00\n",
       "Fe   0.00\n",
       "Hg   0.00\n",
       "Mn   0.00\n",
       "Mo   0.00\n",
       "Ni   0.00\n",
       "U    0.00\n",
       "Zn   0.00\n",
       "dtype: float64"
      ]
     },
     "execution_count": 26,
     "metadata": {},
     "output_type": "execute_result"
    }
   ],
   "source": [
    "# missing values are completely imputed \n",
    "((df.drop(['x','y'], axis=1).isnull().sum()/len(df))*100).sort_values()"
   ]
  },
  {
   "cell_type": "code",
   "execution_count": 27,
   "id": "3ad57c28",
   "metadata": {},
   "outputs": [
    {
     "data": {
      "text/html": [
       "<div>\n",
       "<style scoped>\n",
       "    .dataframe tbody tr th:only-of-type {\n",
       "        vertical-align: middle;\n",
       "    }\n",
       "\n",
       "    .dataframe tbody tr th {\n",
       "        vertical-align: top;\n",
       "    }\n",
       "\n",
       "    .dataframe thead th {\n",
       "        text-align: right;\n",
       "    }\n",
       "</style>\n",
       "<table border=\"1\" class=\"dataframe\">\n",
       "  <thead>\n",
       "    <tr style=\"text-align: right;\">\n",
       "      <th></th>\n",
       "      <th>As</th>\n",
       "      <th>Au</th>\n",
       "      <th>Co</th>\n",
       "      <th>Cu</th>\n",
       "      <th>Fe</th>\n",
       "      <th>Hg</th>\n",
       "      <th>Mn</th>\n",
       "      <th>Mo</th>\n",
       "      <th>Ni</th>\n",
       "      <th>U</th>\n",
       "      <th>Zn</th>\n",
       "      <th>x</th>\n",
       "      <th>y</th>\n",
       "    </tr>\n",
       "  </thead>\n",
       "  <tbody>\n",
       "    <tr>\n",
       "      <th>0</th>\n",
       "      <td>2.00</td>\n",
       "      <td>3.67</td>\n",
       "      <td>4.00</td>\n",
       "      <td>4.00</td>\n",
       "      <td>0.55</td>\n",
       "      <td>15.00</td>\n",
       "      <td>105.00</td>\n",
       "      <td>2.42</td>\n",
       "      <td>6.00</td>\n",
       "      <td>1.70</td>\n",
       "      <td>21.00</td>\n",
       "      <td>424,337.83</td>\n",
       "      <td>6,134,066.04</td>\n",
       "    </tr>\n",
       "    <tr>\n",
       "      <th>1</th>\n",
       "      <td>2.50</td>\n",
       "      <td>3.28</td>\n",
       "      <td>5.00</td>\n",
       "      <td>13.00</td>\n",
       "      <td>0.82</td>\n",
       "      <td>30.00</td>\n",
       "      <td>270.00</td>\n",
       "      <td>3.00</td>\n",
       "      <td>12.00</td>\n",
       "      <td>1.20</td>\n",
       "      <td>42.00</td>\n",
       "      <td>427,093.64</td>\n",
       "      <td>6,141,874.88</td>\n",
       "    </tr>\n",
       "    <tr>\n",
       "      <th>2</th>\n",
       "      <td>2.50</td>\n",
       "      <td>3.28</td>\n",
       "      <td>7.00</td>\n",
       "      <td>16.00</td>\n",
       "      <td>1.00</td>\n",
       "      <td>65.00</td>\n",
       "      <td>215.00</td>\n",
       "      <td>2.00</td>\n",
       "      <td>19.00</td>\n",
       "      <td>1.90</td>\n",
       "      <td>55.00</td>\n",
       "      <td>427,416.54</td>\n",
       "      <td>6,144,102.47</td>\n",
       "    </tr>\n",
       "    <tr>\n",
       "      <th>3</th>\n",
       "      <td>2.12</td>\n",
       "      <td>3.58</td>\n",
       "      <td>9.00</td>\n",
       "      <td>19.00</td>\n",
       "      <td>2.30</td>\n",
       "      <td>40.00</td>\n",
       "      <td>495.00</td>\n",
       "      <td>2.00</td>\n",
       "      <td>20.00</td>\n",
       "      <td>2.50</td>\n",
       "      <td>88.00</td>\n",
       "      <td>428,367.09</td>\n",
       "      <td>6,136,264.12</td>\n",
       "    </tr>\n",
       "    <tr>\n",
       "      <th>4</th>\n",
       "      <td>3.00</td>\n",
       "      <td>4.00</td>\n",
       "      <td>7.00</td>\n",
       "      <td>22.00</td>\n",
       "      <td>2.45</td>\n",
       "      <td>42.00</td>\n",
       "      <td>380.00</td>\n",
       "      <td>2.00</td>\n",
       "      <td>20.00</td>\n",
       "      <td>1.50</td>\n",
       "      <td>60.00</td>\n",
       "      <td>429,670.69</td>\n",
       "      <td>6,138,023.03</td>\n",
       "    </tr>\n",
       "  </tbody>\n",
       "</table>\n",
       "</div>"
      ],
      "text/plain": [
       "    As   Au   Co    Cu   Fe    Hg     Mn   Mo    Ni    U    Zn          x  \\\n",
       "0 2.00 3.67 4.00  4.00 0.55 15.00 105.00 2.42  6.00 1.70 21.00 424,337.83   \n",
       "1 2.50 3.28 5.00 13.00 0.82 30.00 270.00 3.00 12.00 1.20 42.00 427,093.64   \n",
       "2 2.50 3.28 7.00 16.00 1.00 65.00 215.00 2.00 19.00 1.90 55.00 427,416.54   \n",
       "3 2.12 3.58 9.00 19.00 2.30 40.00 495.00 2.00 20.00 2.50 88.00 428,367.09   \n",
       "4 3.00 4.00 7.00 22.00 2.45 42.00 380.00 2.00 20.00 1.50 60.00 429,670.69   \n",
       "\n",
       "             y  \n",
       "0 6,134,066.04  \n",
       "1 6,141,874.88  \n",
       "2 6,144,102.47  \n",
       "3 6,136,264.12  \n",
       "4 6,138,023.03  "
      ]
     },
     "execution_count": 27,
     "metadata": {},
     "output_type": "execute_result"
    }
   ],
   "source": [
    "# the dataframe with imputed missing data. Ready for the next step of data processing\n",
    "df.head()"
   ]
  },
  {
   "cell_type": "code",
   "execution_count": null,
   "id": "1a8d8029",
   "metadata": {},
   "outputs": [],
   "source": []
  }
 ],
 "metadata": {
  "kernelspec": {
   "display_name": "Python 3",
   "language": "python",
   "name": "python3"
  },
  "language_info": {
   "codemirror_mode": {
    "name": "ipython",
    "version": 3
   },
   "file_extension": ".py",
   "mimetype": "text/x-python",
   "name": "python",
   "nbconvert_exporter": "python",
   "pygments_lexer": "ipython3",
   "version": "3.8.10"
  }
 },
 "nbformat": 4,
 "nbformat_minor": 5
}
